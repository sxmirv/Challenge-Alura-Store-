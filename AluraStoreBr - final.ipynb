{
  "nbformat": 4,
  "nbformat_minor": 0,
  "metadata": {
    "colab": {
      "provenance": []
    },
    "kernelspec": {
      "name": "python3",
      "display_name": "Python 3"
    },
    "language_info": {
      "name": "python"
    }
  },
  "cells": [
    {
      "cell_type": "markdown",
      "source": [
        "### Importação dos dados\n",
        "\n"
      ],
      "metadata": {
        "id": "RhEdWd9YUR6H"
      }
    },
    {
      "cell_type": "code",
      "execution_count": 34,
      "metadata": {
        "colab": {
          "base_uri": "https://localhost:8080/",
          "height": 293
        },
        "id": "T3EvaeQ_INIL",
        "outputId": "290a7bc3-7fd2-4903-a95c-2c09d177e831"
      },
      "outputs": [
        {
          "output_type": "execute_result",
          "data": {
            "text/plain": [
              "                 Produto Categoria do Produto    Preço      Frete  \\\n",
              "0     Assistente virtual          eletronicos   219.08   9.249790   \n",
              "1         Mesa de jantar               moveis   256.35  11.234305   \n",
              "2      Jogo de tabuleiro           brinquedos   279.51  21.262681   \n",
              "3            Micro-ondas     eletrodomesticos  1009.99  54.667344   \n",
              "4  Cadeira de escritório               moveis   446.99  26.964689   \n",
              "\n",
              "  Data da Compra        Vendedor Local da compra  Avaliação da compra  \\\n",
              "0     16/01/2021     Pedro Gomes              SP                    4   \n",
              "1     18/05/2022  Beatriz Moraes              RJ                    1   \n",
              "2     15/03/2021      João Souza              DF                    1   \n",
              "3     03/05/2022      João Souza              RS                    4   \n",
              "4     07/11/2020   Larissa Alves              MG                    5   \n",
              "\n",
              "  Tipo de pagamento  Quantidade de parcelas    lat    lon  \n",
              "0    cartao_credito                       8 -22.19 -48.79  \n",
              "1    cartao_credito                       4 -22.25 -42.66  \n",
              "2    cartao_credito                       1 -15.83 -47.86  \n",
              "3            boleto                       1 -30.17 -53.50  \n",
              "4            boleto                       1 -18.10 -44.38  "
            ],
            "text/html": [
              "\n",
              "  <div id=\"df-9a0136eb-af89-4684-86c6-4eda3d9a7094\" class=\"colab-df-container\">\n",
              "    <div>\n",
              "<style scoped>\n",
              "    .dataframe tbody tr th:only-of-type {\n",
              "        vertical-align: middle;\n",
              "    }\n",
              "\n",
              "    .dataframe tbody tr th {\n",
              "        vertical-align: top;\n",
              "    }\n",
              "\n",
              "    .dataframe thead th {\n",
              "        text-align: right;\n",
              "    }\n",
              "</style>\n",
              "<table border=\"1\" class=\"dataframe\">\n",
              "  <thead>\n",
              "    <tr style=\"text-align: right;\">\n",
              "      <th></th>\n",
              "      <th>Produto</th>\n",
              "      <th>Categoria do Produto</th>\n",
              "      <th>Preço</th>\n",
              "      <th>Frete</th>\n",
              "      <th>Data da Compra</th>\n",
              "      <th>Vendedor</th>\n",
              "      <th>Local da compra</th>\n",
              "      <th>Avaliação da compra</th>\n",
              "      <th>Tipo de pagamento</th>\n",
              "      <th>Quantidade de parcelas</th>\n",
              "      <th>lat</th>\n",
              "      <th>lon</th>\n",
              "    </tr>\n",
              "  </thead>\n",
              "  <tbody>\n",
              "    <tr>\n",
              "      <th>0</th>\n",
              "      <td>Assistente virtual</td>\n",
              "      <td>eletronicos</td>\n",
              "      <td>219.08</td>\n",
              "      <td>9.249790</td>\n",
              "      <td>16/01/2021</td>\n",
              "      <td>Pedro Gomes</td>\n",
              "      <td>SP</td>\n",
              "      <td>4</td>\n",
              "      <td>cartao_credito</td>\n",
              "      <td>8</td>\n",
              "      <td>-22.19</td>\n",
              "      <td>-48.79</td>\n",
              "    </tr>\n",
              "    <tr>\n",
              "      <th>1</th>\n",
              "      <td>Mesa de jantar</td>\n",
              "      <td>moveis</td>\n",
              "      <td>256.35</td>\n",
              "      <td>11.234305</td>\n",
              "      <td>18/05/2022</td>\n",
              "      <td>Beatriz Moraes</td>\n",
              "      <td>RJ</td>\n",
              "      <td>1</td>\n",
              "      <td>cartao_credito</td>\n",
              "      <td>4</td>\n",
              "      <td>-22.25</td>\n",
              "      <td>-42.66</td>\n",
              "    </tr>\n",
              "    <tr>\n",
              "      <th>2</th>\n",
              "      <td>Jogo de tabuleiro</td>\n",
              "      <td>brinquedos</td>\n",
              "      <td>279.51</td>\n",
              "      <td>21.262681</td>\n",
              "      <td>15/03/2021</td>\n",
              "      <td>João Souza</td>\n",
              "      <td>DF</td>\n",
              "      <td>1</td>\n",
              "      <td>cartao_credito</td>\n",
              "      <td>1</td>\n",
              "      <td>-15.83</td>\n",
              "      <td>-47.86</td>\n",
              "    </tr>\n",
              "    <tr>\n",
              "      <th>3</th>\n",
              "      <td>Micro-ondas</td>\n",
              "      <td>eletrodomesticos</td>\n",
              "      <td>1009.99</td>\n",
              "      <td>54.667344</td>\n",
              "      <td>03/05/2022</td>\n",
              "      <td>João Souza</td>\n",
              "      <td>RS</td>\n",
              "      <td>4</td>\n",
              "      <td>boleto</td>\n",
              "      <td>1</td>\n",
              "      <td>-30.17</td>\n",
              "      <td>-53.50</td>\n",
              "    </tr>\n",
              "    <tr>\n",
              "      <th>4</th>\n",
              "      <td>Cadeira de escritório</td>\n",
              "      <td>moveis</td>\n",
              "      <td>446.99</td>\n",
              "      <td>26.964689</td>\n",
              "      <td>07/11/2020</td>\n",
              "      <td>Larissa Alves</td>\n",
              "      <td>MG</td>\n",
              "      <td>5</td>\n",
              "      <td>boleto</td>\n",
              "      <td>1</td>\n",
              "      <td>-18.10</td>\n",
              "      <td>-44.38</td>\n",
              "    </tr>\n",
              "  </tbody>\n",
              "</table>\n",
              "</div>\n",
              "    <div class=\"colab-df-buttons\">\n",
              "\n",
              "  <div class=\"colab-df-container\">\n",
              "    <button class=\"colab-df-convert\" onclick=\"convertToInteractive('df-9a0136eb-af89-4684-86c6-4eda3d9a7094')\"\n",
              "            title=\"Convert this dataframe to an interactive table.\"\n",
              "            style=\"display:none;\">\n",
              "\n",
              "  <svg xmlns=\"http://www.w3.org/2000/svg\" height=\"24px\" viewBox=\"0 -960 960 960\">\n",
              "    <path d=\"M120-120v-720h720v720H120Zm60-500h600v-160H180v160Zm220 220h160v-160H400v160Zm0 220h160v-160H400v160ZM180-400h160v-160H180v160Zm440 0h160v-160H620v160ZM180-180h160v-160H180v160Zm440 0h160v-160H620v160Z\"/>\n",
              "  </svg>\n",
              "    </button>\n",
              "\n",
              "  <style>\n",
              "    .colab-df-container {\n",
              "      display:flex;\n",
              "      gap: 12px;\n",
              "    }\n",
              "\n",
              "    .colab-df-convert {\n",
              "      background-color: #E8F0FE;\n",
              "      border: none;\n",
              "      border-radius: 50%;\n",
              "      cursor: pointer;\n",
              "      display: none;\n",
              "      fill: #1967D2;\n",
              "      height: 32px;\n",
              "      padding: 0 0 0 0;\n",
              "      width: 32px;\n",
              "    }\n",
              "\n",
              "    .colab-df-convert:hover {\n",
              "      background-color: #E2EBFA;\n",
              "      box-shadow: 0px 1px 2px rgba(60, 64, 67, 0.3), 0px 1px 3px 1px rgba(60, 64, 67, 0.15);\n",
              "      fill: #174EA6;\n",
              "    }\n",
              "\n",
              "    .colab-df-buttons div {\n",
              "      margin-bottom: 4px;\n",
              "    }\n",
              "\n",
              "    [theme=dark] .colab-df-convert {\n",
              "      background-color: #3B4455;\n",
              "      fill: #D2E3FC;\n",
              "    }\n",
              "\n",
              "    [theme=dark] .colab-df-convert:hover {\n",
              "      background-color: #434B5C;\n",
              "      box-shadow: 0px 1px 3px 1px rgba(0, 0, 0, 0.15);\n",
              "      filter: drop-shadow(0px 1px 2px rgba(0, 0, 0, 0.3));\n",
              "      fill: #FFFFFF;\n",
              "    }\n",
              "  </style>\n",
              "\n",
              "    <script>\n",
              "      const buttonEl =\n",
              "        document.querySelector('#df-9a0136eb-af89-4684-86c6-4eda3d9a7094 button.colab-df-convert');\n",
              "      buttonEl.style.display =\n",
              "        google.colab.kernel.accessAllowed ? 'block' : 'none';\n",
              "\n",
              "      async function convertToInteractive(key) {\n",
              "        const element = document.querySelector('#df-9a0136eb-af89-4684-86c6-4eda3d9a7094');\n",
              "        const dataTable =\n",
              "          await google.colab.kernel.invokeFunction('convertToInteractive',\n",
              "                                                    [key], {});\n",
              "        if (!dataTable) return;\n",
              "\n",
              "        const docLinkHtml = 'Like what you see? Visit the ' +\n",
              "          '<a target=\"_blank\" href=https://colab.research.google.com/notebooks/data_table.ipynb>data table notebook</a>'\n",
              "          + ' to learn more about interactive tables.';\n",
              "        element.innerHTML = '';\n",
              "        dataTable['output_type'] = 'display_data';\n",
              "        await google.colab.output.renderOutput(dataTable, element);\n",
              "        const docLink = document.createElement('div');\n",
              "        docLink.innerHTML = docLinkHtml;\n",
              "        element.appendChild(docLink);\n",
              "      }\n",
              "    </script>\n",
              "  </div>\n",
              "\n",
              "\n",
              "    <div id=\"df-a04f1c22-8ffa-4195-8a4e-d331a582d1c9\">\n",
              "      <button class=\"colab-df-quickchart\" onclick=\"quickchart('df-a04f1c22-8ffa-4195-8a4e-d331a582d1c9')\"\n",
              "                title=\"Suggest charts\"\n",
              "                style=\"display:none;\">\n",
              "\n",
              "<svg xmlns=\"http://www.w3.org/2000/svg\" height=\"24px\"viewBox=\"0 0 24 24\"\n",
              "     width=\"24px\">\n",
              "    <g>\n",
              "        <path d=\"M19 3H5c-1.1 0-2 .9-2 2v14c0 1.1.9 2 2 2h14c1.1 0 2-.9 2-2V5c0-1.1-.9-2-2-2zM9 17H7v-7h2v7zm4 0h-2V7h2v10zm4 0h-2v-4h2v4z\"/>\n",
              "    </g>\n",
              "</svg>\n",
              "      </button>\n",
              "\n",
              "<style>\n",
              "  .colab-df-quickchart {\n",
              "      --bg-color: #E8F0FE;\n",
              "      --fill-color: #1967D2;\n",
              "      --hover-bg-color: #E2EBFA;\n",
              "      --hover-fill-color: #174EA6;\n",
              "      --disabled-fill-color: #AAA;\n",
              "      --disabled-bg-color: #DDD;\n",
              "  }\n",
              "\n",
              "  [theme=dark] .colab-df-quickchart {\n",
              "      --bg-color: #3B4455;\n",
              "      --fill-color: #D2E3FC;\n",
              "      --hover-bg-color: #434B5C;\n",
              "      --hover-fill-color: #FFFFFF;\n",
              "      --disabled-bg-color: #3B4455;\n",
              "      --disabled-fill-color: #666;\n",
              "  }\n",
              "\n",
              "  .colab-df-quickchart {\n",
              "    background-color: var(--bg-color);\n",
              "    border: none;\n",
              "    border-radius: 50%;\n",
              "    cursor: pointer;\n",
              "    display: none;\n",
              "    fill: var(--fill-color);\n",
              "    height: 32px;\n",
              "    padding: 0;\n",
              "    width: 32px;\n",
              "  }\n",
              "\n",
              "  .colab-df-quickchart:hover {\n",
              "    background-color: var(--hover-bg-color);\n",
              "    box-shadow: 0 1px 2px rgba(60, 64, 67, 0.3), 0 1px 3px 1px rgba(60, 64, 67, 0.15);\n",
              "    fill: var(--button-hover-fill-color);\n",
              "  }\n",
              "\n",
              "  .colab-df-quickchart-complete:disabled,\n",
              "  .colab-df-quickchart-complete:disabled:hover {\n",
              "    background-color: var(--disabled-bg-color);\n",
              "    fill: var(--disabled-fill-color);\n",
              "    box-shadow: none;\n",
              "  }\n",
              "\n",
              "  .colab-df-spinner {\n",
              "    border: 2px solid var(--fill-color);\n",
              "    border-color: transparent;\n",
              "    border-bottom-color: var(--fill-color);\n",
              "    animation:\n",
              "      spin 1s steps(1) infinite;\n",
              "  }\n",
              "\n",
              "  @keyframes spin {\n",
              "    0% {\n",
              "      border-color: transparent;\n",
              "      border-bottom-color: var(--fill-color);\n",
              "      border-left-color: var(--fill-color);\n",
              "    }\n",
              "    20% {\n",
              "      border-color: transparent;\n",
              "      border-left-color: var(--fill-color);\n",
              "      border-top-color: var(--fill-color);\n",
              "    }\n",
              "    30% {\n",
              "      border-color: transparent;\n",
              "      border-left-color: var(--fill-color);\n",
              "      border-top-color: var(--fill-color);\n",
              "      border-right-color: var(--fill-color);\n",
              "    }\n",
              "    40% {\n",
              "      border-color: transparent;\n",
              "      border-right-color: var(--fill-color);\n",
              "      border-top-color: var(--fill-color);\n",
              "    }\n",
              "    60% {\n",
              "      border-color: transparent;\n",
              "      border-right-color: var(--fill-color);\n",
              "    }\n",
              "    80% {\n",
              "      border-color: transparent;\n",
              "      border-right-color: var(--fill-color);\n",
              "      border-bottom-color: var(--fill-color);\n",
              "    }\n",
              "    90% {\n",
              "      border-color: transparent;\n",
              "      border-bottom-color: var(--fill-color);\n",
              "    }\n",
              "  }\n",
              "</style>\n",
              "\n",
              "      <script>\n",
              "        async function quickchart(key) {\n",
              "          const quickchartButtonEl =\n",
              "            document.querySelector('#' + key + ' button');\n",
              "          quickchartButtonEl.disabled = true;  // To prevent multiple clicks.\n",
              "          quickchartButtonEl.classList.add('colab-df-spinner');\n",
              "          try {\n",
              "            const charts = await google.colab.kernel.invokeFunction(\n",
              "                'suggestCharts', [key], {});\n",
              "          } catch (error) {\n",
              "            console.error('Error during call to suggestCharts:', error);\n",
              "          }\n",
              "          quickchartButtonEl.classList.remove('colab-df-spinner');\n",
              "          quickchartButtonEl.classList.add('colab-df-quickchart-complete');\n",
              "        }\n",
              "        (() => {\n",
              "          let quickchartButtonEl =\n",
              "            document.querySelector('#df-a04f1c22-8ffa-4195-8a4e-d331a582d1c9 button');\n",
              "          quickchartButtonEl.style.display =\n",
              "            google.colab.kernel.accessAllowed ? 'block' : 'none';\n",
              "        })();\n",
              "      </script>\n",
              "    </div>\n",
              "\n",
              "    </div>\n",
              "  </div>\n"
            ],
            "application/vnd.google.colaboratory.intrinsic+json": {
              "type": "dataframe",
              "variable_name": "loja",
              "summary": "{\n  \"name\": \"loja\",\n  \"rows\": 2359,\n  \"fields\": [\n    {\n      \"column\": \"Produto\",\n      \"properties\": {\n        \"dtype\": \"category\",\n        \"num_unique_values\": 51,\n        \"samples\": [\n          \"Viol\\u00e3o\",\n          \"Bola de basquete\",\n          \"Smartwatch\"\n        ],\n        \"semantic_type\": \"\",\n        \"description\": \"\"\n      }\n    },\n    {\n      \"column\": \"Categoria do Produto\",\n      \"properties\": {\n        \"dtype\": \"category\",\n        \"num_unique_values\": 8,\n        \"samples\": [\n          \"moveis\",\n          \"esporte e lazer\",\n          \"eletronicos\"\n        ],\n        \"semantic_type\": \"\",\n        \"description\": \"\"\n      }\n    },\n    {\n      \"column\": \"Pre\\u00e7o\",\n      \"properties\": {\n        \"dtype\": \"number\",\n        \"std\": 819.5827782539145,\n        \"min\": 10.07,\n        \"max\": 3969.38,\n        \"num_unique_values\": 2315,\n        \"samples\": [\n          446.11,\n          107.31,\n          65.86\n        ],\n        \"semantic_type\": \"\",\n        \"description\": \"\"\n      }\n    },\n    {\n      \"column\": \"Frete\",\n      \"properties\": {\n        \"dtype\": \"number\",\n        \"std\": 43.814183327408166,\n        \"min\": 0.0,\n        \"max\": 214.3770604781,\n        \"num_unique_values\": 2149,\n        \"samples\": [\n          83.815279607,\n          16.069664669,\n          14.0344876928\n        ],\n        \"semantic_type\": \"\",\n        \"description\": \"\"\n      }\n    },\n    {\n      \"column\": \"Data da Compra\",\n      \"properties\": {\n        \"dtype\": \"object\",\n        \"num_unique_values\": 1018,\n        \"samples\": [\n          \"15/09/2022\",\n          \"03/06/2020\",\n          \"06/11/2021\"\n        ],\n        \"semantic_type\": \"\",\n        \"description\": \"\"\n      }\n    },\n    {\n      \"column\": \"Vendedor\",\n      \"properties\": {\n        \"dtype\": \"category\",\n        \"num_unique_values\": 14,\n        \"samples\": [\n          \"Juliana Costa\",\n          \"Mariana Ferreira\",\n          \"Pedro Gomes\"\n        ],\n        \"semantic_type\": \"\",\n        \"description\": \"\"\n      }\n    },\n    {\n      \"column\": \"Local da compra\",\n      \"properties\": {\n        \"dtype\": \"category\",\n        \"num_unique_values\": 26,\n        \"samples\": [\n          \"TO\",\n          \"RN\",\n          \"SP\"\n        ],\n        \"semantic_type\": \"\",\n        \"description\": \"\"\n      }\n    },\n    {\n      \"column\": \"Avalia\\u00e7\\u00e3o da compra\",\n      \"properties\": {\n        \"dtype\": \"number\",\n        \"std\": 1,\n        \"min\": 1,\n        \"max\": 5,\n        \"num_unique_values\": 5,\n        \"samples\": [\n          1,\n          2,\n          5\n        ],\n        \"semantic_type\": \"\",\n        \"description\": \"\"\n      }\n    },\n    {\n      \"column\": \"Tipo de pagamento\",\n      \"properties\": {\n        \"dtype\": \"category\",\n        \"num_unique_values\": 4,\n        \"samples\": [\n          \"boleto\",\n          \"cartao_debito\",\n          \"cartao_credito\"\n        ],\n        \"semantic_type\": \"\",\n        \"description\": \"\"\n      }\n    },\n    {\n      \"column\": \"Quantidade de parcelas\",\n      \"properties\": {\n        \"dtype\": \"number\",\n        \"std\": 2,\n        \"min\": 1,\n        \"max\": 24,\n        \"num_unique_values\": 15,\n        \"samples\": [\n          7,\n          14,\n          8\n        ],\n        \"semantic_type\": \"\",\n        \"description\": \"\"\n      }\n    },\n    {\n      \"column\": \"lat\",\n      \"properties\": {\n        \"dtype\": \"number\",\n        \"std\": 5.372399916530833,\n        \"min\": -30.17,\n        \"max\": 1.41,\n        \"num_unique_values\": 26,\n        \"samples\": [\n          -9.46,\n          -5.81,\n          -22.19\n        ],\n        \"semantic_type\": \"\",\n        \"description\": \"\"\n      }\n    },\n    {\n      \"column\": \"lon\",\n      \"properties\": {\n        \"dtype\": \"number\",\n        \"std\": 4.183180020544179,\n        \"min\": -70.55,\n        \"max\": -36.59,\n        \"num_unique_values\": 26,\n        \"samples\": [\n          -48.26,\n          -36.59,\n          -48.79\n        ],\n        \"semantic_type\": \"\",\n        \"description\": \"\"\n      }\n    }\n  ]\n}"
            }
          },
          "metadata": {},
          "execution_count": 34
        }
      ],
      "source": [
        "import pandas as pd\n",
        "\n",
        "url = \"https://raw.githubusercontent.com/alura-es-cursos/challenge1-data-science/refs/heads/main/base-de-dados-challenge-1/loja_1.csv\"\n",
        "url2 = \"https://raw.githubusercontent.com/alura-es-cursos/challenge1-data-science/refs/heads/main/base-de-dados-challenge-1/loja_2.csv\"\n",
        "url3 = \"https://raw.githubusercontent.com/alura-es-cursos/challenge1-data-science/refs/heads/main/base-de-dados-challenge-1/loja_3.csv\"\n",
        "url4 = \"https://raw.githubusercontent.com/alura-es-cursos/challenge1-data-science/refs/heads/main/base-de-dados-challenge-1/loja_4.csv\"\n",
        "\n",
        "loja = pd.read_csv(url)\n",
        "loja2 = pd.read_csv(url2)\n",
        "loja3 = pd.read_csv(url3)\n",
        "loja4 = pd.read_csv(url4)\n",
        "\n",
        "loja.head()"
      ]
    },
    {
      "cell_type": "markdown",
      "source": [
        "#1. Análise do faturamento\n"
      ],
      "metadata": {
        "id": "X62IW3KFUIYm"
      }
    },
    {
      "cell_type": "code",
      "source": [
        "#Cálculo do faturamento de cada loja\n",
        "faturamento_loja1 = loja['Preço'].sum()\n",
        "faturamento_loja2 = loja2['Preço'].sum()\n",
        "faturamento_loja3 = loja3['Preço'].sum()\n",
        "faturamento_loja4 = loja4['Preço'].sum()"
      ],
      "metadata": {
        "id": "xykobSftV64I"
      },
      "execution_count": 35,
      "outputs": []
    },
    {
      "cell_type": "code",
      "source": [
        "#Resultados\n",
        "print(f\"Faturamento da Loja 1: R$ {faturamento_loja1:.2f}\")\n",
        "print(f\"Faturamento da Loja 2: R$ {faturamento_loja2:.2f}\")\n",
        "print(f\"Faturamento da Loja 3: R$ {faturamento_loja3:.2f}\")\n",
        "print(f\"Faturamento da Loja 4: R$ {faturamento_loja4:.2f}\")"
      ],
      "metadata": {
        "id": "KDyr8E71V3m-",
        "colab": {
          "base_uri": "https://localhost:8080/"
        },
        "outputId": "ed4c1665-3fdf-4add-b5ea-28c86473be34"
      },
      "execution_count": 36,
      "outputs": [
        {
          "output_type": "stream",
          "name": "stdout",
          "text": [
            "Faturamento da Loja 1: R$ 1534509.12\n",
            "Faturamento da Loja 2: R$ 1488459.06\n",
            "Faturamento da Loja 3: R$ 1464025.03\n",
            "Faturamento da Loja 4: R$ 1384497.58\n"
          ]
        }
      ]
    },
    {
      "cell_type": "markdown",
      "source": [
        "# 2. Vendas por Categoria\n"
      ],
      "metadata": {
        "id": "2V_vcAPzWZmR"
      }
    },
    {
      "cell_type": "code",
      "source": [
        "#loja 1\n",
        "vendas_categoria_loja1 = loja['Categoria do Produto'].value_counts()\n",
        "print(\"Vendas por categoria - Loja 1:\")\n",
        "print(vendas_categoria_loja1)\n",
        "\n",
        "#loja 2\n",
        "vendas_categoria_loja2 = loja2['Categoria do Produto'].value_counts()\n",
        "print(\"\\nVendas por categoria - Loja 2:\")\n",
        "print(vendas_categoria_loja2)\n",
        "\n",
        "#loja 3\n",
        "vendas_categoria_loja3 = loja3['Categoria do Produto'].value_counts()\n",
        "print(\"\\nVendas por categoria - Loja 3:\")\n",
        "print(vendas_categoria_loja3)\n",
        "\n",
        "#loja 4\n",
        "vendas_categoria_loja4 = loja4['Categoria do Produto'].value_counts()\n",
        "print(\"\\nVendas por categoria - Loja 4:\")\n",
        "print(vendas_categoria_loja4)"
      ],
      "metadata": {
        "id": "A34YupIuYhfF",
        "colab": {
          "base_uri": "https://localhost:8080/"
        },
        "outputId": "cae2fd11-9f2d-48fa-b5ad-683f50a02b47"
      },
      "execution_count": 37,
      "outputs": [
        {
          "output_type": "stream",
          "name": "stdout",
          "text": [
            "Vendas por categoria - Loja 1:\n",
            "Categoria do Produto\n",
            "moveis                   465\n",
            "eletronicos              448\n",
            "brinquedos               324\n",
            "eletrodomesticos         312\n",
            "esporte e lazer          284\n",
            "instrumentos musicais    182\n",
            "livros                   173\n",
            "utilidades domesticas    171\n",
            "Name: count, dtype: int64\n",
            "\n",
            "Vendas por categoria - Loja 2:\n",
            "Categoria do Produto\n",
            "moveis                   442\n",
            "eletronicos              422\n",
            "brinquedos               313\n",
            "eletrodomesticos         305\n",
            "esporte e lazer          275\n",
            "instrumentos musicais    224\n",
            "livros                   197\n",
            "utilidades domesticas    181\n",
            "Name: count, dtype: int64\n",
            "\n",
            "Vendas por categoria - Loja 3:\n",
            "Categoria do Produto\n",
            "moveis                   499\n",
            "eletronicos              451\n",
            "brinquedos               315\n",
            "eletrodomesticos         278\n",
            "esporte e lazer          277\n",
            "livros                   185\n",
            "instrumentos musicais    177\n",
            "utilidades domesticas    177\n",
            "Name: count, dtype: int64\n",
            "\n",
            "Vendas por categoria - Loja 4:\n",
            "Categoria do Produto\n",
            "moveis                   480\n",
            "eletronicos              451\n",
            "brinquedos               338\n",
            "esporte e lazer          277\n",
            "eletrodomesticos         254\n",
            "utilidades domesticas    201\n",
            "livros                   187\n",
            "instrumentos musicais    170\n",
            "Name: count, dtype: int64\n"
          ]
        }
      ]
    },
    {
      "cell_type": "code",
      "source": [
        "# Top 3 categorias mais populares de cada loja\n",
        "\n",
        "top3_loja1 = loja['Categoria do Produto'].value_counts().head(3)\n",
        "top3_loja2 = loja2['Categoria do Produto'].value_counts().head(3)\n",
        "top3_loja3 = loja3['Categoria do Produto'].value_counts().head(3)\n",
        "top3_loja4 = loja4['Categoria do Produto'].value_counts().head(3)\n",
        "\n",
        "print(\"Top 3 categorias - Loja 1:\\n\", top3_loja1)\n",
        "print(\"\\nTop 3 categorias - Loja 2:\\n\", top3_loja2)\n",
        "print(\"\\nTop 3 categorias - Loja 3:\\n\", top3_loja3)\n",
        "print(\"\\nTop 3 categorias - Loja 4:\\n\", top3_loja4)\n",
        "\n"
      ],
      "metadata": {
        "id": "yZR6cOjXYSk1",
        "colab": {
          "base_uri": "https://localhost:8080/"
        },
        "outputId": "162a354f-bdd2-425b-c3c0-dbf516b17f91"
      },
      "execution_count": 38,
      "outputs": [
        {
          "output_type": "stream",
          "name": "stdout",
          "text": [
            "Top 3 categorias - Loja 1:\n",
            " Categoria do Produto\n",
            "moveis         465\n",
            "eletronicos    448\n",
            "brinquedos     324\n",
            "Name: count, dtype: int64\n",
            "\n",
            "Top 3 categorias - Loja 2:\n",
            " Categoria do Produto\n",
            "moveis         442\n",
            "eletronicos    422\n",
            "brinquedos     313\n",
            "Name: count, dtype: int64\n",
            "\n",
            "Top 3 categorias - Loja 3:\n",
            " Categoria do Produto\n",
            "moveis         499\n",
            "eletronicos    451\n",
            "brinquedos     315\n",
            "Name: count, dtype: int64\n",
            "\n",
            "Top 3 categorias - Loja 4:\n",
            " Categoria do Produto\n",
            "moveis         480\n",
            "eletronicos    451\n",
            "brinquedos     338\n",
            "Name: count, dtype: int64\n"
          ]
        }
      ]
    },
    {
      "cell_type": "markdown",
      "source": [
        "# 3. Média de Avaliação das Lojas"
      ],
      "metadata": {
        "id": "Rq6tU_xSY3jk"
      }
    },
    {
      "cell_type": "code",
      "source": [
        "# Média das avaliações por loja\n",
        "media_avaliacao_loja1 = loja['Avaliação da compra'].mean()\n",
        "media_avaliacao_loja2 = loja2['Avaliação da compra'].mean()\n",
        "media_avaliacao_loja3 = loja3['Avaliação da compra'].mean()\n",
        "media_avaliacao_loja4 = loja4['Avaliação da compra'].mean()\n",
        "\n",
        "print(\"Média de Avaliação - Loja 1:\", round(media_avaliacao_loja1, 3))\n",
        "print(\"Média de Avaliação - Loja 2:\", round(media_avaliacao_loja2, 3))\n",
        "print(\"Média de Avaliação - Loja 3:\", round(media_avaliacao_loja3, 3))\n",
        "print(\"Média de Avaliação - Loja 4:\", round(media_avaliacao_loja4, 3))\n"
      ],
      "metadata": {
        "id": "bh3jjjJwY5MU",
        "colab": {
          "base_uri": "https://localhost:8080/"
        },
        "outputId": "fb975228-57c7-4fbd-f20c-e97fb7ba1348"
      },
      "execution_count": 39,
      "outputs": [
        {
          "output_type": "stream",
          "name": "stdout",
          "text": [
            "Média de Avaliação - Loja 1: 3.977\n",
            "Média de Avaliação - Loja 2: 4.037\n",
            "Média de Avaliação - Loja 3: 4.048\n",
            "Média de Avaliação - Loja 4: 3.996\n"
          ]
        }
      ]
    },
    {
      "cell_type": "markdown",
      "source": [
        "# 4. Produtos Mais e Menos Vendidos"
      ],
      "metadata": {
        "id": "DmNp1KPBZCm-"
      }
    },
    {
      "cell_type": "code",
      "source": [
        "def mais_menos_vendidos(df, nome_loja):\n",
        "    mais = df['Produto'].value_counts().head(5)\n",
        "    menos = df['Produto'].value_counts().tail(5)\n",
        "    print(f\"\\n{nome_loja} - Mais vendidos:\\n{mais}\")\n",
        "    print(f\"\\n{nome_loja} - Menos vendidos:\\n{menos}\")\n",
        "\n",
        "mais_menos_vendidos(loja, \"Loja 1\")\n",
        "mais_menos_vendidos(loja2, \"Loja 2\")\n",
        "mais_menos_vendidos(loja3, \"Loja 3\")\n",
        "mais_menos_vendidos(loja4, \"Loja 4\")\n"
      ],
      "metadata": {
        "id": "qoyjqijQZHfF",
        "colab": {
          "base_uri": "https://localhost:8080/"
        },
        "outputId": "6bd86c97-fb0d-42ce-a747-ca2dda391b67"
      },
      "execution_count": 40,
      "outputs": [
        {
          "output_type": "stream",
          "name": "stdout",
          "text": [
            "\n",
            "Loja 1 - Mais vendidos:\n",
            "Produto\n",
            "Micro-ondas           60\n",
            "TV Led UHD 4K         60\n",
            "Guarda roupas         60\n",
            "Secadora de roupas    58\n",
            "Cômoda                56\n",
            "Name: count, dtype: int64\n",
            "\n",
            "Loja 1 - Menos vendidos:\n",
            "Produto\n",
            "Ciência de dados com python    39\n",
            "Pandeiro                       36\n",
            "Panela de pressão              35\n",
            "Headset                        33\n",
            "Celular ABXY                   33\n",
            "Name: count, dtype: int64\n",
            "\n",
            "Loja 2 - Mais vendidos:\n",
            "Produto\n",
            "Iniciando em programação    65\n",
            "Micro-ondas                 62\n",
            "Bateria                     61\n",
            "Violão                      58\n",
            "Pandeiro                    58\n",
            "Name: count, dtype: int64\n",
            "\n",
            "Loja 2 - Menos vendidos:\n",
            "Produto\n",
            "Fone de ouvido       37\n",
            "Poltrona             35\n",
            "Mesa de jantar       34\n",
            "Impressora           34\n",
            "Jogo de tabuleiro    32\n",
            "Name: count, dtype: int64\n",
            "\n",
            "Loja 3 - Mais vendidos:\n",
            "Produto\n",
            "Kit banquetas      57\n",
            "Mesa de jantar     56\n",
            "Cama king          56\n",
            "Jogo de panelas    55\n",
            "Cômoda             55\n",
            "Name: count, dtype: int64\n",
            "\n",
            "Loja 3 - Menos vendidos:\n",
            "Produto\n",
            "Guitarra            38\n",
            "Jogo de copos       36\n",
            "Mochila             36\n",
            "Micro-ondas         36\n",
            "Blocos de montar    35\n",
            "Name: count, dtype: int64\n",
            "\n",
            "Loja 4 - Mais vendidos:\n",
            "Produto\n",
            "Cama box                    62\n",
            "Faqueiro                    59\n",
            "Dashboards com Power BI     56\n",
            "Cama king                   56\n",
            "Carrinho controle remoto    55\n",
            "Name: count, dtype: int64\n",
            "\n",
            "Loja 4 - Menos vendidos:\n",
            "Produto\n",
            "Geladeira                      38\n",
            "Ciência de dados com python    38\n",
            "Violão                         37\n",
            "Guarda roupas                  34\n",
            "Guitarra                       33\n",
            "Name: count, dtype: int64\n"
          ]
        }
      ]
    },
    {
      "cell_type": "markdown",
      "source": [
        "# 5. Frete Médio por Loja\n"
      ],
      "metadata": {
        "id": "Fl0cGi3bZKqU"
      }
    },
    {
      "cell_type": "code",
      "source": [
        "# Frete médio de cada loja\n",
        "frete_medio_loja1 = loja['Frete'].mean()\n",
        "frete_medio_loja2 = loja2['Frete'].mean()\n",
        "frete_medio_loja3 = loja3['Frete'].mean()\n",
        "frete_medio_loja4 = loja4['Frete'].mean()\n",
        "\n",
        "print(f\"Frete médio Loja 1: R$ {frete_medio_loja1:.2f}\")\n",
        "print(f\"Frete médio Loja 2: R$ {frete_medio_loja2:.2f}\")\n",
        "print(f\"Frete médio Loja 3: R$ {frete_medio_loja3:.2f}\")\n",
        "print(f\"Frete médio Loja 4: R$ {frete_medio_loja4:.2f}\")\n"
      ],
      "metadata": {
        "id": "S2JeaCykZNy9",
        "colab": {
          "base_uri": "https://localhost:8080/"
        },
        "outputId": "500a5a21-cdd4-4bf3-87b1-5851498cc817"
      },
      "execution_count": 41,
      "outputs": [
        {
          "output_type": "stream",
          "name": "stdout",
          "text": [
            "Frete médio Loja 1: R$ 34.69\n",
            "Frete médio Loja 2: R$ 33.62\n",
            "Frete médio Loja 3: R$ 33.07\n",
            "Frete médio Loja 4: R$ 31.28\n"
          ]
        }
      ]
    },
    {
      "cell_type": "markdown",
      "source": [
        "# 6. Gráficos"
      ],
      "metadata": {
        "id": "uwA-orb6gK_I"
      }
    },
    {
      "cell_type": "code",
      "source": [
        "import matplotlib.pyplot as plt\n",
        "import numpy as np\n",
        "\n",
        "#Faturamento das lojas\n",
        "faturamentos = {\n",
        "    \"Loja 1\": faturamento_loja1,\n",
        "    \"Loja 2\": faturamento_loja2,\n",
        "    \"Loja 3\": faturamento_loja3,\n",
        "    \"Loja 4\": faturamento_loja4\n",
        "}\n",
        "lojas = list(faturamentos.keys())\n",
        "valores = list(faturamentos.values())\n",
        "plt.figure(figsize=(10, 8))\n",
        "plt.pie(valores, labels=lojas, autopct='%1.1f%%', startangle=90, colors=plt.cm.Paired.colors)\n",
        "plt.title(\"Distribuição do Faturamento Total por Loja\")\n",
        "plt.axis('equal')\n",
        "plt.savefig(\"faturamento.png\")\n",
        "plt.show()\n",
        "\n",
        "print(\"\\n\")\n",
        "\n",
        "\n",
        "#Média de avaliação das lojas\n",
        "avaliacoes_medias = {\n",
        "    \"Loja 1\": media_avaliacao_loja1,\n",
        "    \"Loja 2\": media_avaliacao_loja2,\n",
        "    \"Loja 3\": media_avaliacao_loja3,\n",
        "    \"Loja 4\": media_avaliacao_loja4\n",
        "}\n",
        "\n",
        "lojas_avaliacao = list(avaliacoes_medias.keys())\n",
        "medias = list(avaliacoes_medias.values())\n",
        "\n",
        "plt.figure(figsize=(10, 6))\n",
        "plt.bar(lojas_avaliacao, medias, color=['skyblue', 'lightcoral', 'lightgreen', 'gold'])\n",
        "plt.xlabel(\"Loja\")\n",
        "plt.ylabel(\"Média de Avaliação\")\n",
        "plt.title(\"Média de Avaliação das Lojas\")\n",
        "plt.ylim(3.5, 4.5)\n",
        "plt.grid(axis='y', linestyle='--', alpha=0.7)\n",
        "plt.savefig(\"avaliacao.png\")\n",
        "plt.show()\n",
        "\n",
        "print(\"\\n\")\n",
        "\n",
        "#Frete médio por loja\n",
        "fretes_medios = {\n",
        "    \"Loja 1\": frete_medio_loja1,\n",
        "    \"Loja 2\": frete_medio_loja2,\n",
        "    \"Loja 3\": frete_medio_loja3,\n",
        "    \"Loja 4\": frete_medio_loja4\n",
        "}\n",
        "lojas_frete = list(fretes_medios.keys())\n",
        "valores_frete = list(fretes_medios.values())\n",
        "plt.figure(figsize=(10, 6))\n",
        "plt.plot(lojas_frete, valores_frete, marker='o', linestyle='-', color='blue', linewidth=2)\n",
        "plt.xlabel(\"Loja\")\n",
        "plt.ylabel(\"Frete Médio (R$)\")\n",
        "plt.title(\"Custo Médio do Frete por Loja\")\n",
        "plt.grid(True, linestyle='--', alpha=0.6)\n",
        "plt.savefig(\"frete.png\")\n",
        "plt.show()"
      ],
      "metadata": {
        "colab": {
          "base_uri": "https://localhost:8080/",
          "height": 1000
        },
        "id": "WMxCUc3BgUjo",
        "outputId": "691ecdd9-8161-453b-af24-0928a18990d0"
      },
      "execution_count": 48,
      "outputs": [
        {
          "output_type": "display_data",
          "data": {
            "text/plain": [
              "<Figure size 1000x800 with 1 Axes>"
            ],
            "image/png": "[encoded data removed]"
          },
          "metadata": {}
        },
        {
          "output_type": "stream",
          "name": "stdout",
          "text": [
            "\n",
            "\n"
          ]
        },
        {
          "output_type": "display_data",
          "data": {
            "text/plain": [
              "<Figure size 1000x600 with 1 Axes>"
            ],
            "image/png": "[encoded data removed]"
          },
          "metadata": {}
        },
        {
          "output_type": "stream",
          "name": "stdout",
          "text": [
            "\n",
            "\n"
          ]
        },
        {
          "output_type": "display_data",
          "data": {
            "text/plain": [
              "<Figure size 1000x600 with 1 Axes>"
            ],
            "image/png": "[encoded data removed]"
          },
          "metadata": {}
        }
      ]
    },
    {
      "cell_type": "markdown",
      "source": [
        "# 7. Relatório"
      ],
      "metadata": {
        "id": "EF5PWypKxoTC"
      }
    },
    {
      "cell_type": "markdown",
      "source": [
        "### Introdução\n",
        "Este relatório tem como objetivo analisar o desempenho das lojas 1, 2, 3 e 4 com base em métricas como a análise do faturamento, vendas por categoria, média de avaliação das lojas, seus respectivos produtos mais e menos vendidos e frete médio por loja, com o intuito de se decidir qual loja deve ser vendida.\n",
        "\n",
        "### Análise dos Dados\n",
        "Para basear a decisão, foram extraídos os seguintes dados, para cada uma das quatro lojas:\n",
        "\n",
        "1. Faturamento total das lojas:\n",
        "\n",
        "  - Loja 1: `R$ 1.534.509,12`\n",
        "  - Loja 2: `R$ 1.488.459,06`\n",
        "  - Loja 3: `R$ 1.464.025,03`\n",
        "  - Loja 4: `R$ 1.384.497,58`\n",
        "\n",
        "Para visualização dos resultados, um gráfico de pizza foi criado, salvo como `faturamento.png`. A loja 1 possui o maior faturamento, seguidas das lojas 2, 3 e 4, respectivamente.\n",
        "\n",
        "\n",
        "2. Vendas por categoria:\n",
        "\n",
        "  Analisar as categorias mais e menos vendidas ajuda a entender o perfil de vendas de cada loja.\n",
        "\n",
        "  - Loja 1:\n",
        "    - Mais vendidos: Móveis (465), Eletrônicos (448), Brinquedos (324).\n",
        "    - Menos vendidos: Utilidades domésticas (171), Livros (173), Instrumentos musicais (182).\n",
        "\n",
        "  - Loja 2:\n",
        "    - Mais vendidos: Móveis (442), Eletrônicos (422), Brinquedos (313).\n",
        "    - Menos vendidos: Utilidades domésticas (181), Livros (197), Instrumentos musicais (224).\n",
        "\n",
        "  - Loja 3:\n",
        "    - Mais vendidos: Móveis (499), Eletrônicos (451), Brinquedos (315).\n",
        "    - Menos vendidos: Utilidades domésticas (177), Livros (185), Instrumentos musicais (177).\n",
        "\n",
        "  - Loja 4:\n",
        "    - Mais vendidos: Móveis (480), Eletrônicos (451), Brinquedos (388).\n",
        "    - Menos vendidos: Utilidades domésticas (201), Livros (187), Instrumentos musicais (170).\n",
        "\n",
        "Nas quatro lojas, as categorias Móveis, Eletrônicos e Brinquedos são as mais vendidas, enquanto Utilidades domésticas, Livros e Instrumentos Musicais são as categorias menos vendidas. Isso implica um padrão de consumo entre as lojas.\n",
        "\n",
        "3. Média de Avaliação das Lojas:\n",
        "\n",
        "  Com a média de avaliação, podemos ver o grau de satisfação dos clientes.\n",
        "\n",
        "  - Loja 1: 3.977\n",
        "  - Loja 2: 4.037\n",
        "  - Loja 3: 4.048\n",
        "  - Loja 4: 3.996\n",
        "\n",
        "Um gráfico de barras foi gerado para visualização dos dados, salvo como `avaliacao.png`. A loja 3 possui uma maior satisfação dos clientes, equanto a loja 4 possui a avaliação mais baixa.\n",
        "\n",
        "4. Produtos Mais e Menos Vendidos:\n",
        "\n",
        "  - Loja 1:\n",
        "    - Mais vendidos: Micro-ondas, TV Led UHD 4K, Guarda-roupas.\n",
        "    - Menos vendidos: Headset, Celular ABXY, Panela de pressão.\n",
        "\n",
        "  - Loja 2:\n",
        "    - Mais vendidos: Iniciando em programação, Micro-ondas, Bateria.\n",
        "    - Menos vendidos: Jogo de Tabuleiro, Impressora, Mesa de Jantar.\n",
        "\n",
        "  - Loja 3:\n",
        "    - Mais vendidos: Kit banquetas, Mesa de jantar, Cama king.\n",
        "    - Menos vendidos:Blocos de Montar, Micro-ondas, Mochila.\n",
        "\n",
        "  - Loja 4:\n",
        "    - Mais vendidos: Cama box, Faqueiro, Dashboards com Power BI.\n",
        "    - Menos vendidos: Guitarra, Guarda Roupas, Violão.\n",
        "\n",
        "5. Frete Médio por Loja:\n",
        "\n",
        "  - Loja 1: `R$ 34,69`\n",
        "  - Loja 2: `R$ 33,62`\n",
        "  - Loja 3: `R$ 33,07`\n",
        "  - Loja 4: `R$ 31,28`\n",
        "\n",
        "A visualização destes dados pode ser dada através do gráfico gerado, nomeado como `frete.png`. A loja 4 possui o frete mais baixo, enquanto a loja 1 possui o frete mais elevado.\n",
        "\n",
        "### Conclusão\n",
        "\n",
        "A loja 4 é a candidata mais forte a ser vendida. Embora tenha um frete menor, a loja 4 possui o menor faturamento e tem a avaliação dos clientes inferior em relação às outras 3 lojas. Com a venda desta loja, o proprietário poderia concentrar recursos nas lojas 1 (maior faturamento) e 3 (melhor avaliação dos clinentes), das quais possuem maior potencial de crescimento e geração de rendas."
      ],
      "metadata": {
        "id": "Gtc1RUGkxrrm"
      }
    }
  ]
}